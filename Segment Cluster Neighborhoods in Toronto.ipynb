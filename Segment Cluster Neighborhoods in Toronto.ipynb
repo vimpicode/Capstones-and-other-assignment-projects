








<!DOCTYPE html>
<html lang="en">

<head>
  <meta charset="utf-8">
  <title>Jupyter Notebook Viewer</title>
  <meta name="viewport" content="width=device-width, initial-scale=1.0">
  <meta name="description" content="">
  <meta name="author" content="">
  
  <meta name="robots" content="noindex,nofollow">
  

  <!--NEW RELIC Start Perf Measurement-->
  
  <!--NREND-->

  <!-- Le styles -->
  <link href="/static/build/styles.css" rel="stylesheet">

  <!-- Le HTML5 shim, for IE6-8 support of HTML5 elements -->
  <!--[if lt IE 9]>
    <script src="http://html5shim.googlecode.com/svn/trunk/html5.js"></script>
  <![endif]-->

  <!-- Le fav and touch icons -->
  <link rel="shortcut icon" href="/static/ico/ipynb_icon_16x16.png">
  <link rel="apple-touch-icon-precomposed" sizes="144x144"
        href="/static/ico/apple-touch-icon-144-precomposed.png">
  <link rel="apple-touch-icon-precomposed" sizes="114x114"
        href="/static/ico/apple-touch-icon-114-precomposed.png">
  <link rel="apple-touch-icon-precomposed" sizes="72x72"
        href="/static/ico/apple-touch-icon-72-precomposed.png">
  <link rel="apple-touch-icon-precomposed"
        href="/static/ico/apple-touch-icon-57-precomposed.png">
  
  

  

  
  <meta name="twitter:card" content="summary">
  <meta name="twitter:title" content="Notebook on nbviewer">
  <meta name="twitter:description" content="Check out this Jupyter notebook!">

  
  <meta name="twitter:domain" content="nbviewer.jupyter.org">
  <meta name="twitter:image:src" content="http://ipython.org/ipython-doc/dev/_images/ipynb_icon_128x128.png">

  
    <link href="/static/build/notebook.css" rel="stylesheet">
  

  

  
    <script src="https://cdnjs.cloudflare.com/ajax/libs/mathjax/2.7.1/MathJax.js?config=TeX-AMS_HTML" type="text/javascript">
    </script>
    <script type="text/javascript">
      init_mathjax = function() {
        if (window.MathJax) {
          // MathJax loaded
          MathJax.Hub.Config({
            TeX: {
              equationNumbers: {
                autoNumber: "AMS",
                useLabelIds: true
              }
            },
            tex2jax: {
              inlineMath: [ ['$','$'], ["\\(","\\)"] ],
              displayMath: [ ['$$','$$'], ["\\[","\\]"] ],
              processEscapes: true,
              processEnvironments: true
            },
            displayAlign: 'center',
            "HTML-CSS": {
              styles: {'.MathJax_Display': {"margin": 0}},
              linebreaks: { automatic: true }
            }
          });
          MathJax.Hub.Queue(["Typeset", MathJax.Hub]);
        }
      }
      init_mathjax();
    </script>
  

  
    <script>
      (function() {
        function addWidgetsRenderer() {
          var mimeElement = document.querySelector('script[type="application/vnd.jupyter.widget-view+json"]');
          var scriptElement = document.createElement('script');
          var widgetRendererSrc = 'https://unpkg.com/@jupyter-widgets/html-manager@0.15/dist/embed-amd.js';
          var widgetState;

          try {
            widgetState = mimeElement && JSON.parse(mimeElement.innerHTML);

            if (widgetState && (widgetState.version_major < 2 || !widgetState.version_major)) {
              widgetRendererSrc = 'https://unpkg.com/jupyter-js-widgets@2.1/dist/embed.js';
            }
          } catch(e) {}

          scriptElement.src = widgetRendererSrc;
          document.body.appendChild(scriptElement);
        }

        document.addEventListener('DOMContentLoaded', addWidgetsRenderer);
      }());
    </script>
  

</head>

<body class="nbviewer">

  <!-- These are loaded at the top of the body so they are available to
       notebook cells when they are loaded below. -->
  <script src="/static/components/jquery/dist/jquery.min.js"></script>
  <script src="/static/components/requirejs/require.js"></script>
  <script src="/static/components/moment/min/moment.min.js"></script>
<!-- Navbar
================================================== -->
  <nav id="menubar" class="navbar navbar-default navbar-fixed-top" data-spy="affix">
    <div class="container">
      <div class="navbar-header">
        <button type="button" class="navbar-toggle collapsed" data-toggle="collapse" data-target=".navbar-collapse">
          <span class="sr-only">Toggle navigation</span>
          <i class="fa fa-bars"></i>
        </button>
        <a class="navbar-brand" href="/">
          <img src="/static/img/nav_logo.svg" width="159"/>
        </a>
      </div>

      <div class="collapse navbar-collapse">
        <ul class="nav navbar-nav navbar-right">
          <li>
            <a class="active" href="https://jupyter.org">JUPYTER</a>
          </li>
          <li>
    <a href="/faq" title="FAQ" >
      
        <span>FAQ</span>
      
    </a>
  </li>

          
  
    
  
    
      
        <li>
    <a href="script/github/vimpicode/Coursera_Capstone/blob/master/Segment%20Cluster%20Neighborhoods%20in%20Toronto.ipynb" title="View as Code" >
      <span class="fa fa-code fa-2x menu-icon"></span>
      <span class="menu-text">View as Code</span>
    </a>
  </li>
      
    
  

  
    <li>
    <a href="#" title="Python 3.6 Kernel" >
      <span class="fa fa-server fa-2x menu-icon"></span>
      <span class="menu-text">Python 3.6 Kernel</span>
    </a>
  </li>
  

  
    <li>
    <a href="https://github.com/vimpicode/Coursera_Capstone/blob/master/Segment%20Cluster%20Neighborhoods%20in%20Toronto.ipynb" title="View on GitHub" >
      <span class="fa fa-github fa-2x menu-icon"></span>
      <span class="menu-text">View on GitHub</span>
    </a>
  </li>
  

  
    <li>
    <a href="https://mybinder.org/v2/gh/vimpicode/Coursera_Capstone/master?filepath=Segment%20Cluster%20Neighborhoods%20in%20Toronto.ipynb" title="Execute on Binder" >
      <span class="fa fa-icon-binder fa-2x menu-icon"></span>
      <span class="menu-text">Execute on Binder</span>
    </a>
  </li>
  

  <li>
    <a href="https://raw.githubusercontent.com/vimpicode/Coursera_Capstone/master/Segment%20Cluster%20Neighborhoods%20in%20Toronto.ipynb" title="Download Notebook" download>
      <span class="fa fa-download fa-2x menu-icon"></span>
      <span class="menu-text">Download Notebook</span>
    </a>
  </li>

        </ul>
      </div><!-- /.navbar-collapse -->
      
      
    </div>
  </nav>

  <div class="container container-main">
    
  
  <ol class="breadcrumb">
    
      <li>
        <a href="/github/vimpicode/Coursera_Capstone/tree/master">Coursera_Capstone</a>
      </li>
    
      <li>
        <a href="/github/vimpicode/Coursera_Capstone/tree/master/Segment Cluster Neighborhoods in Toronto.ipynb">Segment Cluster Neighborhoods in Toronto.ipynb</a>
      </li>
    
  </ol>
  
  <div id="notebook">
    <div id="notebook-container">
      <div class="cell border-box-sizing text_cell rendered"><div class="prompt input_prompt">
</div><div class="inner_cell">
<div class="text_cell_render border-box-sizing rendered_html">
<h1 id="WEEK-3-Project-Assignment">WEEK 3 Project Assignment<a class="anchor-link" href="#WEEK-3-Project-Assignment">&#182;</a></h1>
</div>
</div>
</div>
<div class="cell border-box-sizing text_cell rendered"><div class="prompt input_prompt">
</div><div class="inner_cell">
<div class="text_cell_render border-box-sizing rendered_html">
<h3 id="Segmenting-and-Clustering-Neighborhoods-in-Toronto">Segmenting and Clustering Neighborhoods in Toronto<a class="anchor-link" href="#Segmenting-and-Clustering-Neighborhoods-in-Toronto">&#182;</a></h3>
</div>
</div>
</div>
<div class="cell border-box-sizing text_cell rendered"><div class="prompt input_prompt">
</div><div class="inner_cell">
<div class="text_cell_render border-box-sizing rendered_html">
<p>For this assignment, you will be required to explore and cluster the neighborhoods in Toronto.</p>
<p>Start by creating a new Notebook for this assignment.
Use the Notebook to build the code to scrape the following Wikipedia page, <a href="https://en.wikipedia.org/wiki/List_of_postal_codes_of_Canada:_M">https://en.wikipedia.org/wiki/List_of_postal_codes_of_Canada:_M</a>, in order to obtain the data that is in the table of postal codes and to transform the data into a pandas dataframe like the one shown below:</p>
<p>There are different website scraping libraries and packages in Python. For scraping the above table, you can simply use pandas to read the table into a pandas dataframe.</p>
<p>Another way, which would help to learn for more complicated cases of web scraping is using the BeautifulSoup package. Here is the package's main documentation page: <a href="https://beautiful-soup-4.readthedocs.io/en/latest/">http://beautiful-soup-4.readthedocs.io/en/latest/</a></p>
<p>The package is so popular that there is a plethora of tutorials and examples on how to use it. Here is a very good Youtube video on how to use the BeautifulSoup package: <a href="https://www.youtube.com/watch?v=ng2o98k983k">https://www.youtube.com/watch?v=ng2o98k983k</a></p>
<p>Use pandas, or the BeautifulSoup package, or any other way you are comfortable with to transform the data in the table on the Wikipedia page into the above pandas dataframe.</p>

</div>
</div>
</div>
<div class="cell border-box-sizing text_cell rendered"><div class="prompt input_prompt">
</div><div class="inner_cell">
<div class="text_cell_render border-box-sizing rendered_html">
<h2 id="FIRST-PART">FIRST PART<a class="anchor-link" href="#FIRST-PART">&#182;</a></h2>
</div>
</div>
</div>
<div class="cell border-box-sizing code_cell rendered">
<div class="input">
<div class="prompt input_prompt">In&nbsp;[19]:</div>
<div class="inner_cell">
    <div class="input_area">
<div class=" highlight hl-ipython3"><pre><span></span><span class="c1"># lets import Pandas and Numpy as pd and np, respectively</span>
<span class="kn">import</span> <span class="nn">numpy</span> <span class="k">as</span> <span class="nn">np</span> 
<span class="kn">import</span> <span class="nn">pandas</span> <span class="k">as</span> <span class="nn">pd</span> 
<span class="kn">from</span> <span class="nn">bs4</span> <span class="kn">import</span> <span class="n">BeautifulSoup</span>
<span class="kn">import</span> <span class="nn">requests</span>
</pre></div>

    </div>
</div>
</div>

</div>
<div class="cell border-box-sizing code_cell rendered">
<div class="input">
<div class="prompt input_prompt">In&nbsp;[20]:</div>
<div class="inner_cell">
    <div class="input_area">
<div class=" highlight hl-ipython3"><pre><span></span><span class="c1">#le&#39;s use the wikipedia site for the source of data as instructed</span>
<span class="n">source</span> <span class="o">=</span> <span class="n">requests</span><span class="o">.</span><span class="n">get</span><span class="p">(</span><span class="s1">&#39;https://en.wikipedia.org/wiki/List_of_postal_codes_of_Canada:_M&#39;</span><span class="p">)</span><span class="o">.</span><span class="n">text</span>
<span class="n">soup</span> <span class="o">=</span> <span class="n">BeautifulSoup</span><span class="p">(</span><span class="n">source</span><span class="p">,</span> <span class="s1">&#39;lxml&#39;</span><span class="p">)</span>
</pre></div>

    </div>
</div>
</div>

</div>
<div class="cell border-box-sizing code_cell rendered">
<div class="input">
<div class="prompt input_prompt">In&nbsp;[21]:</div>
<div class="inner_cell">
    <div class="input_area">
<div class=" highlight hl-ipython3"><pre><span></span><span class="k">class</span> <span class="nc">Scrapy</span><span class="p">:</span>
       
        <span class="k">def</span> <span class="nf">parse_url</span><span class="p">(</span><span class="bp">self</span><span class="p">,</span> <span class="n">url</span><span class="p">):</span>
            <span class="n">response</span> <span class="o">=</span> <span class="n">requests</span><span class="o">.</span><span class="n">get</span><span class="p">(</span><span class="n">url</span><span class="p">)</span>
            <span class="n">soup</span> <span class="o">=</span> <span class="n">BeautifulSoup</span><span class="p">(</span><span class="n">response</span><span class="o">.</span><span class="n">text</span><span class="p">,</span> <span class="s1">&#39;lxml&#39;</span><span class="p">)</span>
            <span class="k">return</span> <span class="p">[(</span><span class="bp">self</span><span class="o">.</span><span class="n">parse_html_table</span><span class="p">(</span><span class="n">table</span><span class="p">))</span>\
                    <span class="k">for</span> <span class="n">table</span> <span class="ow">in</span> <span class="n">soup</span><span class="o">.</span><span class="n">find_all</span><span class="p">(</span><span class="s1">&#39;table&#39;</span><span class="p">,</span> <span class="n">class_</span><span class="o">=</span><span class="s2">&quot;wikitable sortable&quot;</span><span class="p">)]</span>  
    
        <span class="k">def</span> <span class="nf">parse_html_table</span><span class="p">(</span><span class="bp">self</span><span class="p">,</span> <span class="n">table</span><span class="p">):</span>
            <span class="n">n_columns</span> <span class="o">=</span> <span class="mi">0</span>
            <span class="n">n_rows</span><span class="o">=</span><span class="mi">0</span>
            <span class="n">column_names</span> <span class="o">=</span> <span class="p">[]</span>
            <span class="k">for</span> <span class="n">row</span> <span class="ow">in</span> <span class="n">table</span><span class="o">.</span><span class="n">find_all</span><span class="p">(</span><span class="s1">&#39;tr&#39;</span><span class="p">):</span>
                <span class="n">td_tags</span> <span class="o">=</span> <span class="n">row</span><span class="o">.</span><span class="n">find_all</span><span class="p">(</span><span class="s1">&#39;td&#39;</span><span class="p">)</span>
                <span class="k">if</span> <span class="nb">len</span><span class="p">(</span><span class="n">td_tags</span><span class="p">)</span> <span class="o">&gt;</span> <span class="mi">0</span><span class="p">:</span>
                    <span class="n">n_rows</span><span class="o">+=</span><span class="mi">1</span>
                    <span class="k">if</span> <span class="n">n_columns</span> <span class="o">==</span> <span class="mi">0</span><span class="p">:</span>
                        <span class="n">n_columns</span> <span class="o">=</span> <span class="nb">len</span><span class="p">(</span><span class="n">td_tags</span><span class="p">)</span>
                        
                <span class="n">th_tags</span> <span class="o">=</span> <span class="n">row</span><span class="o">.</span><span class="n">find_all</span><span class="p">(</span><span class="s1">&#39;th&#39;</span><span class="p">)</span> 
                <span class="k">if</span> <span class="nb">len</span><span class="p">(</span><span class="n">th_tags</span><span class="p">)</span> <span class="o">&gt;</span> <span class="mi">0</span> <span class="ow">and</span> <span class="nb">len</span><span class="p">(</span><span class="n">column_names</span><span class="p">)</span> <span class="o">==</span> <span class="mi">0</span><span class="p">:</span>
                    <span class="k">for</span> <span class="n">th</span> <span class="ow">in</span> <span class="n">th_tags</span><span class="p">:</span>
                        <span class="n">column_names</span><span class="o">.</span><span class="n">append</span><span class="p">(</span><span class="n">th</span><span class="o">.</span><span class="n">get_text</span><span class="p">())</span>
    
            <span class="k">if</span> <span class="nb">len</span><span class="p">(</span><span class="n">column_names</span><span class="p">)</span> <span class="o">&gt;</span> <span class="mi">0</span> <span class="ow">and</span> <span class="nb">len</span><span class="p">(</span><span class="n">column_names</span><span class="p">)</span> <span class="o">!=</span> <span class="n">n_columns</span><span class="p">:</span>
                <span class="k">raise</span> <span class="ne">Exception</span><span class="p">(</span><span class="s2">&quot;Column titles do not match the number of columns&quot;</span><span class="p">)</span>
    
            <span class="n">columns</span> <span class="o">=</span> <span class="n">column_names</span> <span class="k">if</span> <span class="nb">len</span><span class="p">(</span><span class="n">column_names</span><span class="p">)</span> <span class="o">&gt;</span> <span class="mi">0</span> <span class="k">else</span> <span class="nb">range</span><span class="p">(</span><span class="mi">0</span><span class="p">,</span><span class="n">n_columns</span><span class="p">)</span>
            <span class="n">df</span> <span class="o">=</span> <span class="n">pd</span><span class="o">.</span><span class="n">DataFrame</span><span class="p">(</span><span class="n">columns</span> <span class="o">=</span> <span class="n">columns</span><span class="p">,</span>
                              <span class="n">index</span><span class="o">=</span> <span class="nb">range</span><span class="p">(</span><span class="mi">0</span><span class="p">,</span><span class="n">n_rows</span><span class="p">))</span>
            <span class="n">row_marker</span> <span class="o">=</span> <span class="mi">0</span>
            <span class="k">for</span> <span class="n">row</span> <span class="ow">in</span> <span class="n">table</span><span class="o">.</span><span class="n">find_all</span><span class="p">(</span><span class="s1">&#39;tr&#39;</span><span class="p">):</span>
                <span class="n">column_marker</span> <span class="o">=</span> <span class="mi">0</span>
                <span class="n">columns</span> <span class="o">=</span> <span class="n">row</span><span class="o">.</span><span class="n">find_all</span><span class="p">(</span><span class="s1">&#39;td&#39;</span><span class="p">)</span>
                <span class="k">for</span> <span class="n">column</span> <span class="ow">in</span> <span class="n">columns</span><span class="p">:</span>
                    <span class="n">df</span><span class="o">.</span><span class="n">iat</span><span class="p">[</span><span class="n">row_marker</span><span class="p">,</span><span class="n">column_marker</span><span class="p">]</span> <span class="o">=</span> <span class="n">column</span><span class="o">.</span><span class="n">get_text</span><span class="p">()</span>
                    <span class="n">column_marker</span> <span class="o">+=</span> <span class="mi">1</span>
                <span class="k">if</span> <span class="nb">len</span><span class="p">(</span><span class="n">columns</span><span class="p">)</span> <span class="o">&gt;</span> <span class="mi">0</span><span class="p">:</span>
                    <span class="n">row_marker</span> <span class="o">+=</span> <span class="mi">1</span>
                    
            <span class="k">for</span> <span class="n">col</span> <span class="ow">in</span> <span class="n">df</span><span class="p">:</span>
                <span class="k">try</span><span class="p">:</span>
                    <span class="n">df</span><span class="p">[</span><span class="n">col</span><span class="p">]</span> <span class="o">=</span> <span class="n">df</span><span class="p">[</span><span class="n">col</span><span class="p">]</span><span class="o">.</span><span class="n">astype</span><span class="p">(</span><span class="nb">float</span><span class="p">)</span>
                <span class="k">except</span> <span class="ne">ValueError</span><span class="p">:</span>
                    <span class="k">pass</span>
            
            <span class="k">return</span> <span class="n">df</span>
</pre></div>

    </div>
</div>
</div>

</div>
<div class="cell border-box-sizing code_cell rendered">
<div class="input">
<div class="prompt input_prompt">In&nbsp;[22]:</div>
<div class="inner_cell">
    <div class="input_area">
<div class=" highlight hl-ipython3"><pre><span></span><span class="c1"># lets run the same page in order to generate the data in a table</span>
<span class="n">url</span> <span class="o">=</span> <span class="s1">&#39;https://en.wikipedia.org/wiki/List_of_postal_codes_of_Canada:_M&#39;</span>
<span class="n">hp</span> <span class="o">=</span> <span class="n">Scrapy</span><span class="p">()</span>
<span class="n">table</span> <span class="o">=</span> <span class="n">hp</span><span class="o">.</span><span class="n">parse_url</span><span class="p">(</span><span class="n">url</span><span class="p">)[</span><span class="mi">0</span><span class="p">]</span> 
<span class="n">table</span><span class="o">.</span><span class="n">head</span><span class="p">(</span><span class="mi">10</span><span class="p">)</span>
</pre></div>

    </div>
</div>
</div>

<div class="output_wrapper">
<div class="output">


<div class="output_area">

    <div class="prompt output_prompt">Out[22]:</div>



<div class="output_html rendered_html output_subarea output_execute_result">
<div>
<style scoped>
    .dataframe tbody tr th:only-of-type {
        vertical-align: middle;
    }

    .dataframe tbody tr th {
        vertical-align: top;
    }

    .dataframe thead th {
        text-align: right;
    }
</style>
<table border="1" class="dataframe">
  <thead>
    <tr style="text-align: right;">
      <th></th>
      <th>Postcode</th>
      <th>Borough</th>
      <th>Neighbourhood</th>
    </tr>
  </thead>
  <tbody>
    <tr>
      <th>0</th>
      <td>M1A</td>
      <td>Not assigned</td>
      <td>Not assigned\n</td>
    </tr>
    <tr>
      <th>1</th>
      <td>M2A</td>
      <td>Not assigned</td>
      <td>Not assigned\n</td>
    </tr>
    <tr>
      <th>2</th>
      <td>M3A</td>
      <td>North York</td>
      <td>Parkwoods\n</td>
    </tr>
    <tr>
      <th>3</th>
      <td>M4A</td>
      <td>North York</td>
      <td>Victoria Village\n</td>
    </tr>
    <tr>
      <th>4</th>
      <td>M5A</td>
      <td>Downtown Toronto</td>
      <td>Harbourfront\n</td>
    </tr>
    <tr>
      <th>5</th>
      <td>M6A</td>
      <td>North York</td>
      <td>Lawrence Heights\n</td>
    </tr>
    <tr>
      <th>6</th>
      <td>M6A</td>
      <td>North York</td>
      <td>Lawrence Manor\n</td>
    </tr>
    <tr>
      <th>7</th>
      <td>M7A</td>
      <td>Downtown Toronto</td>
      <td>Queen's Park\n</td>
    </tr>
    <tr>
      <th>8</th>
      <td>M8A</td>
      <td>Not assigned</td>
      <td>Not assigned\n</td>
    </tr>
    <tr>
      <th>9</th>
      <td>M9A</td>
      <td>Etobicoke</td>
      <td>Islington Avenue\n</td>
    </tr>
  </tbody>
</table>
</div>
</div>

</div>

</div>
</div>

</div>
<div class="cell border-box-sizing text_cell rendered"><div class="prompt input_prompt">
</div><div class="inner_cell">
<div class="text_cell_render border-box-sizing rendered_html">
<h3 id="Cleaning-the-data-from-table-above">Cleaning the data from table above<a class="anchor-link" href="#Cleaning-the-data-from-table-above">&#182;</a></h3>
</div>
</div>
</div>
<div class="cell border-box-sizing text_cell rendered"><div class="prompt input_prompt">
</div><div class="inner_cell">
<div class="text_cell_render border-box-sizing rendered_html">
<h4 id="In-the-following-step,-I-remove-the-&quot;Not-assigned&quot;--from-the-table.">In the following step, I remove the "Not assigned"  from the table.<a class="anchor-link" href="#In-the-following-step,-I-remove-the-&quot;Not-assigned&quot;--from-the-table.">&#182;</a></h4>
</div>
</div>
</div>
<div class="cell border-box-sizing code_cell rendered">
<div class="input">
<div class="prompt input_prompt">In&nbsp;[23]:</div>
<div class="inner_cell">
    <div class="input_area">
<div class=" highlight hl-ipython3"><pre><span></span><span class="n">table</span> <span class="o">=</span> <span class="n">table</span><span class="p">[</span><span class="n">table</span><span class="o">.</span><span class="n">Borough</span> <span class="o">!=</span> <span class="s1">&#39;Not assigned&#39;</span><span class="p">]</span>
<span class="n">table</span><span class="o">.</span><span class="n">head</span><span class="p">(</span><span class="mi">10</span><span class="p">)</span>
</pre></div>

    </div>
</div>
</div>

<div class="output_wrapper">
<div class="output">


<div class="output_area">

    <div class="prompt output_prompt">Out[23]:</div>



<div class="output_html rendered_html output_subarea output_execute_result">
<div>
<style scoped>
    .dataframe tbody tr th:only-of-type {
        vertical-align: middle;
    }

    .dataframe tbody tr th {
        vertical-align: top;
    }

    .dataframe thead th {
        text-align: right;
    }
</style>
<table border="1" class="dataframe">
  <thead>
    <tr style="text-align: right;">
      <th></th>
      <th>Postcode</th>
      <th>Borough</th>
      <th>Neighbourhood</th>
    </tr>
  </thead>
  <tbody>
    <tr>
      <th>2</th>
      <td>M3A</td>
      <td>North York</td>
      <td>Parkwoods\n</td>
    </tr>
    <tr>
      <th>3</th>
      <td>M4A</td>
      <td>North York</td>
      <td>Victoria Village\n</td>
    </tr>
    <tr>
      <th>4</th>
      <td>M5A</td>
      <td>Downtown Toronto</td>
      <td>Harbourfront\n</td>
    </tr>
    <tr>
      <th>5</th>
      <td>M6A</td>
      <td>North York</td>
      <td>Lawrence Heights\n</td>
    </tr>
    <tr>
      <th>6</th>
      <td>M6A</td>
      <td>North York</td>
      <td>Lawrence Manor\n</td>
    </tr>
    <tr>
      <th>7</th>
      <td>M7A</td>
      <td>Downtown Toronto</td>
      <td>Queen's Park\n</td>
    </tr>
    <tr>
      <th>9</th>
      <td>M9A</td>
      <td>Etobicoke</td>
      <td>Islington Avenue\n</td>
    </tr>
    <tr>
      <th>10</th>
      <td>M1B</td>
      <td>Scarborough</td>
      <td>Rouge\n</td>
    </tr>
    <tr>
      <th>11</th>
      <td>M1B</td>
      <td>Scarborough</td>
      <td>Malvern\n</td>
    </tr>
    <tr>
      <th>13</th>
      <td>M3B</td>
      <td>North York</td>
      <td>Don Mills North\n</td>
    </tr>
  </tbody>
</table>
</div>
</div>

</div>

</div>
</div>

</div>
<div class="cell border-box-sizing text_cell rendered"><div class="prompt input_prompt">
</div><div class="inner_cell">
<div class="text_cell_render border-box-sizing rendered_html">
<h3 id="Further-cleaning-of-data">Further cleaning of data<a class="anchor-link" href="#Further-cleaning-of-data">&#182;</a></h3>
</div>
</div>
</div>
<div class="cell border-box-sizing code_cell rendered">
<div class="input">
<div class="prompt input_prompt">In&nbsp;[24]:</div>
<div class="inner_cell">
    <div class="input_area">
<div class=" highlight hl-ipython3"><pre><span></span><span class="nb">print</span><span class="p">(</span><span class="nb">list</span><span class="p">(</span><span class="n">table</span><span class="p">))</span>
<span class="n">table</span> <span class="o">=</span> <span class="n">table</span><span class="o">.</span><span class="n">replace</span><span class="p">(</span><span class="s1">&#39;</span><span class="se">\n</span><span class="s1">&#39;</span><span class="p">,</span><span class="s1">&#39; &#39;</span><span class="p">,</span> <span class="n">regex</span><span class="o">=</span><span class="kc">True</span><span class="p">)</span>
<span class="n">table</span><span class="o">.</span><span class="n">head</span><span class="p">(</span><span class="mi">10</span><span class="p">)</span>
</pre></div>

    </div>
</div>
</div>

<div class="output_wrapper">
<div class="output">


<div class="output_area">

    <div class="prompt"></div>


<div class="output_subarea output_stream output_stdout output_text">
<pre>[&#39;Postcode&#39;, &#39;Borough&#39;, &#39;Neighbourhood\n&#39;]
</pre>
</div>
</div>

<div class="output_area">

    <div class="prompt output_prompt">Out[24]:</div>



<div class="output_html rendered_html output_subarea output_execute_result">
<div>
<style scoped>
    .dataframe tbody tr th:only-of-type {
        vertical-align: middle;
    }

    .dataframe tbody tr th {
        vertical-align: top;
    }

    .dataframe thead th {
        text-align: right;
    }
</style>
<table border="1" class="dataframe">
  <thead>
    <tr style="text-align: right;">
      <th></th>
      <th>Postcode</th>
      <th>Borough</th>
      <th>Neighbourhood</th>
    </tr>
  </thead>
  <tbody>
    <tr>
      <th>2</th>
      <td>M3A</td>
      <td>North York</td>
      <td>Parkwoods</td>
    </tr>
    <tr>
      <th>3</th>
      <td>M4A</td>
      <td>North York</td>
      <td>Victoria Village</td>
    </tr>
    <tr>
      <th>4</th>
      <td>M5A</td>
      <td>Downtown Toronto</td>
      <td>Harbourfront</td>
    </tr>
    <tr>
      <th>5</th>
      <td>M6A</td>
      <td>North York</td>
      <td>Lawrence Heights</td>
    </tr>
    <tr>
      <th>6</th>
      <td>M6A</td>
      <td>North York</td>
      <td>Lawrence Manor</td>
    </tr>
    <tr>
      <th>7</th>
      <td>M7A</td>
      <td>Downtown Toronto</td>
      <td>Queen's Park</td>
    </tr>
    <tr>
      <th>9</th>
      <td>M9A</td>
      <td>Etobicoke</td>
      <td>Islington Avenue</td>
    </tr>
    <tr>
      <th>10</th>
      <td>M1B</td>
      <td>Scarborough</td>
      <td>Rouge</td>
    </tr>
    <tr>
      <th>11</th>
      <td>M1B</td>
      <td>Scarborough</td>
      <td>Malvern</td>
    </tr>
    <tr>
      <th>13</th>
      <td>M3B</td>
      <td>North York</td>
      <td>Don Mills North</td>
    </tr>
  </tbody>
</table>
</div>
</div>

</div>

</div>
</div>

</div>
<div class="cell border-box-sizing code_cell rendered">
<div class="input">
<div class="prompt input_prompt">In&nbsp;[25]:</div>
<div class="inner_cell">
    <div class="input_area">
<div class=" highlight hl-ipython3"><pre><span></span><span class="n">table</span> <span class="o">=</span> <span class="n">table</span><span class="p">[</span><span class="n">table</span><span class="p">[</span><span class="s1">&#39;Neighbourhood</span><span class="se">\n</span><span class="s1">&#39;</span><span class="p">]</span> <span class="o">!=</span> <span class="s1">&#39;Not assigned&#39;</span><span class="p">]</span>
<span class="n">table</span><span class="o">.</span><span class="n">head</span><span class="p">(</span><span class="mi">10</span><span class="p">)</span>
</pre></div>

    </div>
</div>
</div>

<div class="output_wrapper">
<div class="output">


<div class="output_area">

    <div class="prompt output_prompt">Out[25]:</div>



<div class="output_html rendered_html output_subarea output_execute_result">
<div>
<style scoped>
    .dataframe tbody tr th:only-of-type {
        vertical-align: middle;
    }

    .dataframe tbody tr th {
        vertical-align: top;
    }

    .dataframe thead th {
        text-align: right;
    }
</style>
<table border="1" class="dataframe">
  <thead>
    <tr style="text-align: right;">
      <th></th>
      <th>Postcode</th>
      <th>Borough</th>
      <th>Neighbourhood</th>
    </tr>
  </thead>
  <tbody>
    <tr>
      <th>2</th>
      <td>M3A</td>
      <td>North York</td>
      <td>Parkwoods</td>
    </tr>
    <tr>
      <th>3</th>
      <td>M4A</td>
      <td>North York</td>
      <td>Victoria Village</td>
    </tr>
    <tr>
      <th>4</th>
      <td>M5A</td>
      <td>Downtown Toronto</td>
      <td>Harbourfront</td>
    </tr>
    <tr>
      <th>5</th>
      <td>M6A</td>
      <td>North York</td>
      <td>Lawrence Heights</td>
    </tr>
    <tr>
      <th>6</th>
      <td>M6A</td>
      <td>North York</td>
      <td>Lawrence Manor</td>
    </tr>
    <tr>
      <th>7</th>
      <td>M7A</td>
      <td>Downtown Toronto</td>
      <td>Queen's Park</td>
    </tr>
    <tr>
      <th>9</th>
      <td>M9A</td>
      <td>Etobicoke</td>
      <td>Islington Avenue</td>
    </tr>
    <tr>
      <th>10</th>
      <td>M1B</td>
      <td>Scarborough</td>
      <td>Rouge</td>
    </tr>
    <tr>
      <th>11</th>
      <td>M1B</td>
      <td>Scarborough</td>
      <td>Malvern</td>
    </tr>
    <tr>
      <th>13</th>
      <td>M3B</td>
      <td>North York</td>
      <td>Don Mills North</td>
    </tr>
  </tbody>
</table>
</div>
</div>

</div>

</div>
</div>

</div>
<div class="cell border-box-sizing text_cell rendered"><div class="prompt input_prompt">
</div><div class="inner_cell">
<div class="text_cell_render border-box-sizing rendered_html">
<h3 id="Using-the-Postcode-table-to-group-the-neighborhood">Using the Postcode table to group the neighborhood<a class="anchor-link" href="#Using-the-Postcode-table-to-group-the-neighborhood">&#182;</a></h3>
</div>
</div>
</div>
<div class="cell border-box-sizing code_cell rendered">
<div class="input">
<div class="prompt input_prompt">In&nbsp;[26]:</div>
<div class="inner_cell">
    <div class="input_area">
<div class=" highlight hl-ipython3"><pre><span></span><span class="c1"># Lets generate the same table and organize it by Postcode</span>
<span class="n">df</span> <span class="o">=</span> <span class="n">table</span><span class="o">.</span><span class="n">groupby</span><span class="p">([</span><span class="s1">&#39;Postcode&#39;</span><span class="p">,</span><span class="s1">&#39;Borough&#39;</span><span class="p">])[</span><span class="s1">&#39;Neighbourhood</span><span class="se">\n</span><span class="s1">&#39;</span><span class="p">]</span><span class="o">.</span><span class="n">apply</span><span class="p">(</span><span class="k">lambda</span> <span class="n">x</span><span class="p">:</span> <span class="s2">&quot;, &quot;</span><span class="o">.</span><span class="n">join</span><span class="p">(</span><span class="n">x</span><span class="o">.</span><span class="n">astype</span><span class="p">(</span><span class="nb">str</span><span class="p">)))</span><span class="o">.</span><span class="n">reset_index</span><span class="p">()</span>
<span class="n">df</span> <span class="o">=</span> <span class="n">df</span><span class="o">.</span><span class="n">sample</span><span class="p">(</span><span class="n">frac</span><span class="o">=</span><span class="mi">1</span><span class="p">)</span><span class="o">.</span><span class="n">reset_index</span><span class="p">(</span><span class="n">drop</span><span class="o">=</span><span class="kc">True</span><span class="p">)</span>
<span class="n">df</span><span class="o">.</span><span class="n">head</span><span class="p">(</span><span class="mi">10</span><span class="p">)</span>
</pre></div>

    </div>
</div>
</div>

<div class="output_wrapper">
<div class="output">


<div class="output_area">

    <div class="prompt output_prompt">Out[26]:</div>



<div class="output_html rendered_html output_subarea output_execute_result">
<div>
<style scoped>
    .dataframe tbody tr th:only-of-type {
        vertical-align: middle;
    }

    .dataframe tbody tr th {
        vertical-align: top;
    }

    .dataframe thead th {
        text-align: right;
    }
</style>
<table border="1" class="dataframe">
  <thead>
    <tr style="text-align: right;">
      <th></th>
      <th>Postcode</th>
      <th>Borough</th>
      <th>Neighbourhood</th>
    </tr>
  </thead>
  <tbody>
    <tr>
      <th>0</th>
      <td>M4E</td>
      <td>East Toronto</td>
      <td>The Beaches</td>
    </tr>
    <tr>
      <th>1</th>
      <td>M2H</td>
      <td>North York</td>
      <td>Hillcrest Village</td>
    </tr>
    <tr>
      <th>2</th>
      <td>M5C</td>
      <td>Downtown Toronto</td>
      <td>St. James Town</td>
    </tr>
    <tr>
      <th>3</th>
      <td>M6S</td>
      <td>West Toronto</td>
      <td>Runnymede , Swansea</td>
    </tr>
    <tr>
      <th>4</th>
      <td>M8Y</td>
      <td>Etobicoke</td>
      <td>Humber Bay , King's Mill Park , Kingsway Park ...</td>
    </tr>
    <tr>
      <th>5</th>
      <td>M1X</td>
      <td>Scarborough</td>
      <td>Upper Rouge</td>
    </tr>
    <tr>
      <th>6</th>
      <td>M9R</td>
      <td>Etobicoke</td>
      <td>Kingsview Village , Martin Grove Gardens , Ric...</td>
    </tr>
    <tr>
      <th>7</th>
      <td>M4X</td>
      <td>Downtown Toronto</td>
      <td>Cabbagetown , St. James Town</td>
    </tr>
    <tr>
      <th>8</th>
      <td>M5J</td>
      <td>Downtown Toronto</td>
      <td>Harbourfront East , Toronto Islands , Union St...</td>
    </tr>
    <tr>
      <th>9</th>
      <td>M1J</td>
      <td>Scarborough</td>
      <td>Scarborough Village</td>
    </tr>
  </tbody>
</table>
</div>
</div>

</div>

</div>
</div>

</div>
<div class="cell border-box-sizing text_cell rendered"><div class="prompt input_prompt">
</div><div class="inner_cell">
<div class="text_cell_render border-box-sizing rendered_html">
<h2 id="FIRST-PART-ENDS-HERE">FIRST PART ENDS HERE<a class="anchor-link" href="#FIRST-PART-ENDS-HERE">&#182;</a></h2>
</div>
</div>
</div>
<div class="cell border-box-sizing code_cell rendered">
<div class="input">
<div class="prompt input_prompt">In&nbsp;[&nbsp;]:</div>
<div class="inner_cell">
    <div class="input_area">
<div class=" highlight hl-ipython3"><pre><span></span> 
</pre></div>

    </div>
</div>
</div>

</div>
<div class="cell border-box-sizing text_cell rendered"><div class="prompt input_prompt">
</div><div class="inner_cell">
<div class="text_cell_render border-box-sizing rendered_html">
<h1 id="SECOND-PART-STARTS-HERE">SECOND PART STARTS HERE<a class="anchor-link" href="#SECOND-PART-STARTS-HERE">&#182;</a></h1>
</div>
</div>
</div>
<div class="cell border-box-sizing text_cell rendered"><div class="prompt input_prompt">
</div><div class="inner_cell">
<div class="text_cell_render border-box-sizing rendered_html">
<p>Now that you have built a dataframe of the postal code of each neighborhood along with the borough name and neighborhood name, in order to utilize the Foursquare location data, we need to get the latitude and the longitude coordinates of each neighborhood.</p>
<p>In an older version of this course, we were leveraging the Google Maps Geocoding API to get the latitude and the longitude coordinates of each neighborhood. However, recently Google started charging for their API: <a href="http://geoawesomeness.com/developers-up-in-arms-over-google-maps-api-insane-price-hike/">http://geoawesomeness.com/developers-up-in-arms-over-google-maps-api-insane-price-hike/</a>, so we will use the Geocoder Python package instead: <a href="https://geocoder.readthedocs.io/index.html">https://geocoder.readthedocs.io/index.html</a>.</p>
<p>The problem with this Package is you have to be persistent sometimes in order to get the geographical coordinates of a given postal code. So you can make a call to get the latitude and longitude coordinates of a given postal code and the result would be None, and then make the call again and you would get the coordinates. So, in order to make sure that you get the coordinates for all of our neighborhoods, you can run a while loop for each postal code. Taking postal code M5G as an example, your code would look something like this:</p>
<p>Given that this package can be very unreliable, in case you are not able to get the geographical coordinates of the neighborhoods using the Geocoder package, here is a link to a csv file that has the geographical coordinates of each postal code: <a href="http://cocl.us/Geospatial_data">http://cocl.us/Geospatial_data</a></p>
<p>Use the Geocoder package or the csv file to create the following dataframe:
Now that you have built a dataframe of the postal code of each neighborhood along with the borough name and neighborhood name, in order to utilize the Foursquare location data, we need to get the latitude and the longitude coordinates of each neighborhood.</p>
<p>In an older version of this course, we were leveraging the Google Maps Geocoding API to get the latitude and the longitude coordinates of each neighborhood. However, recently Google started charging for their API: <a href="http://geoawesomeness.com/developers-up-in-arms-over-google-maps-api-insane-price-hike/">http://geoawesomeness.com/developers-up-in-arms-over-google-maps-api-insane-price-hike/</a>, so we will use the Geocoder Python package instead: <a href="https://geocoder.readthedocs.io/index.html">https://geocoder.readthedocs.io/index.html</a>.</p>
<p>The problem with this Package is you have to be persistent sometimes in order to get the geographical coordinates of a given postal code. So you can make a call to get the latitude and longitude coordinates of a given postal code and the result would be None, and then make the call again and you would get the coordinates. So, in order to make sure that you get the coordinates for all of our neighborhoods, you can run a while loop for each postal code. Taking postal code M5G as an example, your code would look something like this:</p>
<p>
Given that this package can be very unreliable, in case you are not able to get the geographical coordinates of the neighborhoods using the Geocoder package, here is a link to a csv file that has the geographical coordinates of each postal code: <a href="http://cocl.us/Geospatial_data">http://cocl.us/Geospatial_data</a></p>
<p>Use the Geocoder package or the csv file to create the following dataframe:</p>
<p>Important Note: There is a limit on how many times you can call geocoder.google function. It is 2500 times per day. This should be way more than enough for you to get acquainted with the package and to use it to get the geographical coordinates of the neighborhoods in the Toronto.</p>
<p>Once you are able to create the above dataframe, submit a link to the new Notebook on your Github repository. (2 marks)</p>

</div>
</div>
</div>
<div class="cell border-box-sizing text_cell rendered"><div class="prompt input_prompt">
</div><div class="inner_cell">
<div class="text_cell_render border-box-sizing rendered_html">
<h3 id="Lets-run-the-Geocoder-Python-Package">Lets run the Geocoder Python Package<a class="anchor-link" href="#Lets-run-the-Geocoder-Python-Package">&#182;</a></h3>
</div>
</div>
</div>
<div class="cell border-box-sizing code_cell rendered">
<div class="input">
<div class="prompt input_prompt">In&nbsp;[27]:</div>
<div class="inner_cell">
    <div class="input_area">
<div class=" highlight hl-ipython3"><pre><span></span><span class="c1"># lets generate the latitude and longitude of the data</span>
<span class="n">url2</span><span class="o">=</span><span class="s2">&quot;http://cocl.us/Geospatial_data&quot;</span>
<span class="n">geo_data</span><span class="o">=</span><span class="n">pd</span><span class="o">.</span><span class="n">read_csv</span><span class="p">(</span><span class="n">url2</span><span class="p">)</span>
<span class="n">geo_data</span><span class="o">.</span><span class="n">head</span><span class="p">(</span><span class="mi">10</span><span class="p">)</span>
</pre></div>

    </div>
</div>
</div>

<div class="output_wrapper">
<div class="output">


<div class="output_area">

    <div class="prompt output_prompt">Out[27]:</div>



<div class="output_html rendered_html output_subarea output_execute_result">
<div>
<style scoped>
    .dataframe tbody tr th:only-of-type {
        vertical-align: middle;
    }

    .dataframe tbody tr th {
        vertical-align: top;
    }

    .dataframe thead th {
        text-align: right;
    }
</style>
<table border="1" class="dataframe">
  <thead>
    <tr style="text-align: right;">
      <th></th>
      <th>Postal Code</th>
      <th>Latitude</th>
      <th>Longitude</th>
    </tr>
  </thead>
  <tbody>
    <tr>
      <th>0</th>
      <td>M1B</td>
      <td>43.806686</td>
      <td>-79.194353</td>
    </tr>
    <tr>
      <th>1</th>
      <td>M1C</td>
      <td>43.784535</td>
      <td>-79.160497</td>
    </tr>
    <tr>
      <th>2</th>
      <td>M1E</td>
      <td>43.763573</td>
      <td>-79.188711</td>
    </tr>
    <tr>
      <th>3</th>
      <td>M1G</td>
      <td>43.770992</td>
      <td>-79.216917</td>
    </tr>
    <tr>
      <th>4</th>
      <td>M1H</td>
      <td>43.773136</td>
      <td>-79.239476</td>
    </tr>
    <tr>
      <th>5</th>
      <td>M1J</td>
      <td>43.744734</td>
      <td>-79.239476</td>
    </tr>
    <tr>
      <th>6</th>
      <td>M1K</td>
      <td>43.727929</td>
      <td>-79.262029</td>
    </tr>
    <tr>
      <th>7</th>
      <td>M1L</td>
      <td>43.711112</td>
      <td>-79.284577</td>
    </tr>
    <tr>
      <th>8</th>
      <td>M1M</td>
      <td>43.716316</td>
      <td>-79.239476</td>
    </tr>
    <tr>
      <th>9</th>
      <td>M1N</td>
      <td>43.692657</td>
      <td>-79.264848</td>
    </tr>
  </tbody>
</table>
</div>
</div>

</div>

</div>
</div>

</div>
<div class="cell border-box-sizing text_cell rendered"><div class="prompt input_prompt">
</div><div class="inner_cell">
<div class="text_cell_render border-box-sizing rendered_html">
<h3 id="Organizing-the-data-by-Postalcode">Organizing the data by Postalcode<a class="anchor-link" href="#Organizing-the-data-by-Postalcode">&#182;</a></h3>
</div>
</div>
</div>
<div class="cell border-box-sizing code_cell rendered">
<div class="input">
<div class="prompt input_prompt">In&nbsp;[28]:</div>
<div class="inner_cell">
    <div class="input_area">
<div class=" highlight hl-ipython3"><pre><span></span><span class="c1"># Now lets incomporate the latitude and longitude generated earlier into the main table</span>
<span class="nb">print</span><span class="p">(</span><span class="nb">list</span><span class="p">(</span><span class="n">df</span><span class="p">))</span>
<span class="nb">print</span><span class="p">(</span><span class="nb">list</span><span class="p">(</span><span class="n">geo_data</span><span class="p">))</span>

<span class="c1"># Lets generate the data and order it by Postalcode</span>
<span class="n">full_table</span> <span class="o">=</span> <span class="n">df</span><span class="o">.</span><span class="n">set_index</span><span class="p">(</span><span class="s1">&#39;Postcode&#39;</span><span class="p">)</span><span class="o">.</span><span class="n">join</span><span class="p">(</span><span class="n">geo_data</span><span class="o">.</span><span class="n">set_index</span><span class="p">(</span><span class="s1">&#39;Postal Code&#39;</span><span class="p">))</span>
<span class="n">full_table</span> <span class="o">=</span> <span class="n">full_table</span><span class="o">.</span><span class="n">sample</span><span class="p">(</span><span class="n">frac</span><span class="o">=</span><span class="mi">1</span><span class="p">)</span><span class="o">.</span><span class="n">reset_index</span><span class="p">(</span><span class="n">drop</span><span class="o">=</span><span class="kc">True</span><span class="p">)</span>
<span class="n">full_table</span><span class="o">.</span><span class="n">head</span><span class="p">(</span><span class="mi">20</span><span class="p">)</span>
</pre></div>

    </div>
</div>
</div>

<div class="output_wrapper">
<div class="output">


<div class="output_area">

    <div class="prompt"></div>


<div class="output_subarea output_stream output_stdout output_text">
<pre>[&#39;Postcode&#39;, &#39;Borough&#39;, &#39;Neighbourhood\n&#39;]
[&#39;Postal Code&#39;, &#39;Latitude&#39;, &#39;Longitude&#39;]
</pre>
</div>
</div>

<div class="output_area">

    <div class="prompt output_prompt">Out[28]:</div>



<div class="output_html rendered_html output_subarea output_execute_result">
<div>
<style scoped>
    .dataframe tbody tr th:only-of-type {
        vertical-align: middle;
    }

    .dataframe tbody tr th {
        vertical-align: top;
    }

    .dataframe thead th {
        text-align: right;
    }
</style>
<table border="1" class="dataframe">
  <thead>
    <tr style="text-align: right;">
      <th></th>
      <th>Borough</th>
      <th>Neighbourhood</th>
      <th>Latitude</th>
      <th>Longitude</th>
    </tr>
  </thead>
  <tbody>
    <tr>
      <th>0</th>
      <td>Scarborough</td>
      <td>Clairlea , Golden Mile , Oakridge</td>
      <td>43.711112</td>
      <td>-79.284577</td>
    </tr>
    <tr>
      <th>1</th>
      <td>Downtown Toronto</td>
      <td>Harbord , University of Toronto</td>
      <td>43.662696</td>
      <td>-79.400049</td>
    </tr>
    <tr>
      <th>2</th>
      <td>York</td>
      <td>Del Ray , Keelesdale , Mount Dennis , Silverth...</td>
      <td>43.691116</td>
      <td>-79.476013</td>
    </tr>
    <tr>
      <th>3</th>
      <td>North York</td>
      <td>Newtonbrook , Willowdale</td>
      <td>43.789053</td>
      <td>-79.408493</td>
    </tr>
    <tr>
      <th>4</th>
      <td>Scarborough</td>
      <td>Maryvale , Wexford</td>
      <td>43.750072</td>
      <td>-79.295849</td>
    </tr>
    <tr>
      <th>5</th>
      <td>North York</td>
      <td>Downsview Central</td>
      <td>43.728496</td>
      <td>-79.495697</td>
    </tr>
    <tr>
      <th>6</th>
      <td>York</td>
      <td>The Junction North , Runnymede</td>
      <td>43.673185</td>
      <td>-79.487262</td>
    </tr>
    <tr>
      <th>7</th>
      <td>Etobicoke</td>
      <td>Kingsway Park South West , Mimico NW , The Que...</td>
      <td>43.628841</td>
      <td>-79.520999</td>
    </tr>
    <tr>
      <th>8</th>
      <td>Central Toronto</td>
      <td>North Toronto West</td>
      <td>43.715383</td>
      <td>-79.405678</td>
    </tr>
    <tr>
      <th>9</th>
      <td>North York</td>
      <td>Glencairn</td>
      <td>43.709577</td>
      <td>-79.445073</td>
    </tr>
    <tr>
      <th>10</th>
      <td>West Toronto</td>
      <td>Brockton , Exhibition Place , Parkdale Village</td>
      <td>43.636847</td>
      <td>-79.428191</td>
    </tr>
    <tr>
      <th>11</th>
      <td>West Toronto</td>
      <td>Runnymede , Swansea</td>
      <td>43.651571</td>
      <td>-79.484450</td>
    </tr>
    <tr>
      <th>12</th>
      <td>Scarborough</td>
      <td>Birch Cliff , Cliffside West</td>
      <td>43.692657</td>
      <td>-79.264848</td>
    </tr>
    <tr>
      <th>13</th>
      <td>Scarborough</td>
      <td>East Birchmount Park , Ionview , Kennedy Park</td>
      <td>43.727929</td>
      <td>-79.262029</td>
    </tr>
    <tr>
      <th>14</th>
      <td>Downtown Toronto</td>
      <td>St. James Town</td>
      <td>43.651494</td>
      <td>-79.375418</td>
    </tr>
    <tr>
      <th>15</th>
      <td>Mississauga</td>
      <td>Canada Post Gateway Processing Centre</td>
      <td>43.636966</td>
      <td>-79.615819</td>
    </tr>
    <tr>
      <th>16</th>
      <td>North York</td>
      <td>Fairview , Henry Farm , Oriole</td>
      <td>43.778517</td>
      <td>-79.346556</td>
    </tr>
    <tr>
      <th>17</th>
      <td>Scarborough</td>
      <td>Clarks Corners , Sullivan , Tam O'Shanter</td>
      <td>43.781638</td>
      <td>-79.304302</td>
    </tr>
    <tr>
      <th>18</th>
      <td>Etobicoke</td>
      <td>Humber Bay , King's Mill Park , Kingsway Park ...</td>
      <td>43.636258</td>
      <td>-79.498509</td>
    </tr>
    <tr>
      <th>19</th>
      <td>Scarborough</td>
      <td>Dorset Park , Scarborough Town Centre , Wexfor...</td>
      <td>43.757410</td>
      <td>-79.273304</td>
    </tr>
  </tbody>
</table>
</div>
</div>

</div>

</div>
</div>

</div>
<div class="cell border-box-sizing text_cell rendered"><div class="prompt input_prompt">
</div><div class="inner_cell">
<div class="text_cell_render border-box-sizing rendered_html">
<h2 id="SECOND-PART-ENDS-HERE">SECOND PART ENDS HERE<a class="anchor-link" href="#SECOND-PART-ENDS-HERE">&#182;</a></h2>
</div>
</div>
</div>
<div class="cell border-box-sizing code_cell rendered">
<div class="input">
<div class="prompt input_prompt">In&nbsp;[&nbsp;]:</div>
<div class="inner_cell">
    <div class="input_area">
<div class=" highlight hl-ipython3"><pre><span></span> 
</pre></div>

    </div>
</div>
</div>

</div>
<div class="cell border-box-sizing text_cell rendered"><div class="prompt input_prompt">
</div><div class="inner_cell">
<div class="text_cell_render border-box-sizing rendered_html">
<h1 id="THIRD-PART-STARTS-HERE">THIRD PART STARTS HERE<a class="anchor-link" href="#THIRD-PART-STARTS-HERE">&#182;</a></h1>
</div>
</div>
</div>
<div class="cell border-box-sizing text_cell rendered"><div class="prompt input_prompt">
</div><div class="inner_cell">
<div class="text_cell_render border-box-sizing rendered_html">
<p>Explore and cluster the neighborhoods in Toronto. You can decide to work with only boroughs that contain the word Toronto and then replicate the same analysis we did to the New York City data. It is up to you.</p>
<p>Just make sure:</p>
<p>to add enough Markdown cells to explain what you decided to do and to report any observations you make.
to generate maps to visualize your neighborhoods and how they cluster together.
Once you are happy with your analysis, submit a link to the new Notebook on your Github repository. (3 marks)</p>

</div>
</div>
</div>
<div class="cell border-box-sizing text_cell rendered"><div class="prompt input_prompt">
</div><div class="inner_cell">
<div class="text_cell_render border-box-sizing rendered_html">
<h4 id="In-this-third-part-I-will-analyze-the-geographic-coordinates-of-Toronto-and-use-a-geo_map-to-display-it.">In this third part I will analyze the geographic coordinates of Toronto and use a geo_map to display it.<a class="anchor-link" href="#In-this-third-part-I-will-analyze-the-geographic-coordinates-of-Toronto-and-use-a-geo_map-to-display-it.">&#182;</a></h4>
</div>
</div>
</div>
<div class="cell border-box-sizing code_cell rendered">
<div class="input">
<div class="prompt input_prompt">In&nbsp;[30]:</div>
<div class="inner_cell">
    <div class="input_area">
<div class=" highlight hl-ipython3"><pre><span></span><span class="c1"># lets import matplotlib and KMeans</span>
<span class="o">!</span>conda install -c conda-forge <span class="nv">folium</span><span class="o">=</span><span class="m">0</span>.5.0 --yes

<span class="kn">from</span> <span class="nn">geopy.geocoders</span> <span class="kn">import</span> <span class="n">Nominatim</span> 
<span class="kn">import</span> <span class="nn">matplotlib.cm</span> <span class="k">as</span> <span class="nn">cm</span>
<span class="kn">import</span> <span class="nn">matplotlib.colors</span> <span class="k">as</span> <span class="nn">colors</span>

<span class="kn">from</span> <span class="nn">sklearn.cluster</span> <span class="kn">import</span> <span class="n">KMeans</span>

<span class="kn">import</span> <span class="nn">folium</span>
</pre></div>

    </div>
</div>
</div>

<div class="output_wrapper">
<div class="output">


<div class="output_area">

    <div class="prompt"></div>


<div class="output_subarea output_stream output_stdout output_text">
<pre>Solving environment: done

## Package Plan ##

  environment location: /opt/conda/envs/Python36

  added / updated specs: 
    - folium=0.5.0


The following packages will be downloaded:

    package                    |            build
    ---------------------------|-----------------
    openssl-1.1.1d             |       h516909a_0         2.1 MB  conda-forge
    altair-4.0.1               |             py_0         575 KB  conda-forge
    ca-certificates-2019.11.28 |       hecc5488_0         145 KB  conda-forge
    certifi-2019.11.28         |           py36_0         149 KB  conda-forge
    folium-0.5.0               |             py_0          45 KB  conda-forge
    vincent-0.4.4              |             py_1          28 KB  conda-forge
    branca-0.4.0               |             py_0          26 KB  conda-forge
    ------------------------------------------------------------
                                           Total:         3.0 MB

The following NEW packages will be INSTALLED:

    altair:          4.0.1-py_0        conda-forge
    branca:          0.4.0-py_0        conda-forge
    folium:          0.5.0-py_0        conda-forge
    vincent:         0.4.4-py_1        conda-forge

The following packages will be UPDATED:

    ca-certificates: 2019.11.27-0                  --&gt; 2019.11.28-hecc5488_0 conda-forge
    certifi:         2019.11.28-py36_0             --&gt; 2019.11.28-py36_0     conda-forge

The following packages will be DOWNGRADED:

    openssl:         1.1.1d-h7b6447c_3             --&gt; 1.1.1d-h516909a_0     conda-forge


Downloading and Extracting Packages
openssl-1.1.1d       | 2.1 MB    | ##################################### | 100% 
altair-4.0.1         | 575 KB    | ##################################### | 100% 
ca-certificates-2019 | 145 KB    | ##################################### | 100% 
certifi-2019.11.28   | 149 KB    | ##################################### | 100% 
folium-0.5.0         | 45 KB     | ##################################### | 100% 
vincent-0.4.4        | 28 KB     | ##################################### | 100% 
branca-0.4.0         | 26 KB     | ##################################### | 100% 
Preparing transaction: done
Verifying transaction: done
Executing transaction: done
</pre>
</div>
</div>

</div>
</div>

</div>
<div class="cell border-box-sizing text_cell rendered"><div class="prompt input_prompt">
</div><div class="inner_cell">
<div class="text_cell_render border-box-sizing rendered_html">
<h4 id="Now-lets-set-the-coordinates-for-Toronto-prior-to-generating-the-map.">Now lets set the coordinates for Toronto prior to generating the map.<a class="anchor-link" href="#Now-lets-set-the-coordinates-for-Toronto-prior-to-generating-the-map.">&#182;</a></h4>
</div>
</div>
</div>
<div class="cell border-box-sizing code_cell rendered">
<div class="input">
<div class="prompt input_prompt">In&nbsp;[31]:</div>
<div class="inner_cell">
    <div class="input_area">
<div class=" highlight hl-ipython3"><pre><span></span><span class="c1"># let&#39;s establish the coordinates for Toronto</span>
<span class="n">address</span> <span class="o">=</span> <span class="s1">&#39;Toronto&#39;</span>

<span class="n">geolocator</span> <span class="o">=</span> <span class="n">Nominatim</span><span class="p">()</span>
<span class="n">location</span> <span class="o">=</span> <span class="n">geolocator</span><span class="o">.</span><span class="n">geocode</span><span class="p">(</span><span class="n">address</span><span class="p">)</span>
<span class="n">latitude</span> <span class="o">=</span> <span class="n">location</span><span class="o">.</span><span class="n">latitude</span>
<span class="n">longitude</span> <span class="o">=</span> <span class="n">location</span><span class="o">.</span><span class="n">longitude</span>
<span class="nb">print</span><span class="p">(</span><span class="s1">&#39;The geograpical coordinate of Toronto are </span><span class="si">{}</span><span class="s1">, </span><span class="si">{}</span><span class="s1">.&#39;</span><span class="o">.</span><span class="n">format</span><span class="p">(</span><span class="n">latitude</span><span class="p">,</span> <span class="n">longitude</span><span class="p">))</span>
</pre></div>

    </div>
</div>
</div>

<div class="output_wrapper">
<div class="output">


<div class="output_area">

    <div class="prompt"></div>


<div class="output_subarea output_stream output_stderr output_text">
<pre>/opt/conda/envs/Python36/lib/python3.6/site-packages/ipykernel/__main__.py:4: DeprecationWarning: Using Nominatim with the default &#34;geopy/1.18.1&#34; `user_agent` is strongly discouraged, as it violates Nominatim&#39;s ToS https://operations.osmfoundation.org/policies/nominatim/ and may possibly cause 403 and 429 HTTP errors. Please specify a custom `user_agent` with `Nominatim(user_agent=&#34;my-application&#34;)` or by overriding the default `user_agent`: `geopy.geocoders.options.default_user_agent = &#34;my-application&#34;`. In geopy 2.0 this will become an exception.
</pre>
</div>
</div>

<div class="output_area">

    <div class="prompt"></div>


<div class="output_subarea output_stream output_stdout output_text">
<pre>The geograpical coordinate of Toronto are 43.653963, -79.387207.
</pre>
</div>
</div>

</div>
</div>

</div>
<div class="cell border-box-sizing text_cell rendered"><div class="prompt input_prompt">
</div><div class="inner_cell">
<div class="text_cell_render border-box-sizing rendered_html">
<h4 id="Last,-we-generate-Toronto's-map-using-the-cordinates-established-before">Last, we generate Toronto's map using the cordinates established before<a class="anchor-link" href="#Last,-we-generate-Toronto's-map-using-the-cordinates-established-before">&#182;</a></h4>
</div>
</div>
</div>
<div class="cell border-box-sizing code_cell rendered">
<div class="input">
<div class="prompt input_prompt">In&nbsp;[32]:</div>
<div class="inner_cell">
    <div class="input_area">
<div class=" highlight hl-ipython3"><pre><span></span><span class="n">map_geo</span> <span class="o">=</span> <span class="n">folium</span><span class="o">.</span><span class="n">Map</span><span class="p">(</span><span class="n">location</span><span class="o">=</span><span class="p">[</span><span class="n">latitude</span><span class="p">,</span> <span class="n">longitude</span><span class="p">],</span> <span class="n">zoom_start</span><span class="o">=</span><span class="mi">11</span><span class="p">)</span>

<span class="c1"># add markers to map</span>
<span class="k">for</span> <span class="n">lat</span><span class="p">,</span> <span class="n">lng</span><span class="p">,</span> <span class="n">label</span> <span class="ow">in</span> <span class="nb">zip</span><span class="p">(</span><span class="n">full_table</span><span class="p">[</span><span class="s1">&#39;Latitude&#39;</span><span class="p">],</span> <span class="n">full_table</span><span class="p">[</span><span class="s1">&#39;Longitude&#39;</span><span class="p">],</span> <span class="n">full_table</span><span class="p">[</span><span class="s1">&#39;Neighbourhood</span><span class="se">\n</span><span class="s1">&#39;</span><span class="p">]):</span>
    <span class="n">label</span> <span class="o">=</span> <span class="n">folium</span><span class="o">.</span><span class="n">Popup</span><span class="p">(</span><span class="n">label</span><span class="p">,</span> <span class="n">parse_html</span><span class="o">=</span><span class="kc">True</span><span class="p">)</span>
    <span class="n">folium</span><span class="o">.</span><span class="n">CircleMarker</span><span class="p">(</span>
        <span class="p">[</span><span class="n">lat</span><span class="p">,</span> <span class="n">lng</span><span class="p">],</span>
        <span class="n">radius</span><span class="o">=</span><span class="mi">5</span><span class="p">,</span>
        <span class="n">popup</span><span class="o">=</span><span class="n">label</span><span class="p">,</span>
        <span class="n">color</span><span class="o">=</span><span class="s1">&#39;blue&#39;</span><span class="p">,</span>
        <span class="n">fill</span><span class="o">=</span><span class="kc">True</span><span class="p">,</span>
        <span class="n">fill_color</span><span class="o">=</span><span class="s1">&#39;#3186cc&#39;</span><span class="p">,</span>
        <span class="n">fill_opacity</span><span class="o">=</span><span class="mf">0.7</span><span class="p">,</span>
        <span class="n">parse_html</span><span class="o">=</span><span class="kc">False</span><span class="p">)</span><span class="o">.</span><span class="n">add_to</span><span class="p">(</span><span class="n">map_geo</span><span class="p">)</span>  
    
<span class="n">map_geo</span>
</pre></div>

    </div>
</div>
</div>

<div class="output_wrapper">
<div class="output">


<div class="output_area">

    <div class="prompt output_prompt">Out[32]:</div>



<div class="output_html rendered_html output_subarea output_execute_result">
<div style="width:100%;"><div style="position:relative;width:100%;height:0;padding-bottom:60%;"><iframe src="about:blank" style="position:absolute;width:100%;height:100%;left:0;top:0;border:none !important;" data-html=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 onload="this.contentDocument.open();this.contentDocument.write(atob(this.getAttribute('data-html')));this.contentDocument.close();" allowfullscreen webkitallowfullscreen mozallowfullscreen></iframe></div></div>
</div>

</div>

</div>
</div>

</div>
<div class="cell border-box-sizing text_cell rendered"><div class="prompt input_prompt">
</div><div class="inner_cell">
<div class="text_cell_render border-box-sizing rendered_html">
<h4 id="Thi-is-the-end-of-the-assignment.-Thank-you!!">Thi is the end of the assignment. Thank you!!<a class="anchor-link" href="#Thi-is-the-end-of-the-assignment.-Thank-you!!">&#182;</a></h4>
</div>
</div>
</div>
<div class="cell border-box-sizing code_cell rendered">
<div class="input">
<div class="prompt input_prompt">In&nbsp;[&nbsp;]:</div>
<div class="inner_cell">
    <div class="input_area">
<div class=" highlight hl-ipython3"><pre><span></span> 
</pre></div>

    </div>
</div>
</div>

</div>
 


    </div>
  </div>

  </div>


  
    <footer class="footer hidden-print">
      <div class="container">
        <div class="col-md-4">
          <p>
            This website does not host notebooks, it only renders notebooks
            available on other websites.
          </p>
        </div>

        <div class="col-md-4">
          <p>
            Delivered by <a href="https://www.fastly.com/">Fastly</a>,
            Rendered by <a href="https://ovhcloud.com">OVHCloud</a>
          </p>
          <p>
            nbviewer GitHub <a href="https://github.com/jupyter/nbviewer">repository</a>.
          </p>
        </div>

        <div class="col-md-4">
          
  
            
              <p>
                nbviewer version:
                <a href="https://github.com/jupyter/nbviewer/commit/e83752b49e1663d3feb1c157d31fb51451f11c0a">
                  e83752b
                </a>
              </p>
            
          
  
  <p>
    nbconvert version: <a href="https://github.com/jupyter/nbconvert/releases/tag/5.6.1">
      5.6.1
    </a>
  </p>
  

          
  
  
  <p>
    Rendered
    <span class='date' data-date='Mon, 27 Apr 2020 20:12:13 UTC' title='Mon, 27 Apr 2020 20:12:13 UTC'>(Mon, 27 Apr 2020 20:12:13 UTC)</span>
  </p>
  

        </div>
      </div>
    </footer>
  

  <script src="/static/components/bootstrap/js/bootstrap.min.js"></script>
  <script src="/static/components/headroom.js/dist/headroom.min.js"></script>
  <script src="/static/components/headroom.js/dist/jQuery.headroom.min.js"></script>

  
  
  <script>
    $(function(){ $("#menubar").headroom({
      tolerance: 5,
      offset: 205,
      classes: {
        initial: "animated",
        pinned: "slideInDown",
        unpinned: "slideOutUp"
      }
    })});
  </script>


  
  <script>
    (function(i,s,o,g,r,a,m){i['GoogleAnalyticsObject']=r;i[r]=i[r]||function(){
      (i[r].q=i[r].q||[]).push(arguments)},i[r].l=1*new Date();a=s.createElement(o),
      m=s.getElementsByTagName(o)[0];a.async=1;a.src=g;m.parentNode.insertBefore(a,m)
    })(window,document,'script','https://www.google-analytics.com/analytics.js','ga');
    ga('create', 'UA-52617120-5', 'auto',
       {'storage': 'none'});
    ga('set', 'anonymizeIp', true);
    ga('send', 'pageview');
  </script>
  
  <script>
    require({
        paths: {
          moment: "/static/components/moment/min/moment.min.js"
        }
      }, ["moment"], function(moment){
      var date = $("footer .date"),
        m = moment(new Date(date.data('date'))),
        update = function(){ date.text(m.fromNow()); };
      setInterval(update, 61*1000);
      update();
      var w = $(window).scroll(function(event){
        $("body").toggleClass("scrolled", w.scrollTop() > 0);
      });
    });
  </script>

  <!--NEW RELIC Stop Perf Measurement-->
  
  <!--NEW RELIC End-->
</body>
</html>