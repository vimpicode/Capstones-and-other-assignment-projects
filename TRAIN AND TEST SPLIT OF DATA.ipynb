{
 "cells": [
  {
   "cell_type": "markdown",
   "metadata": {},
   "source": [
    "By\n",
    "### Bernardo Vimpi\n",
    "April 2020"
   ]
  },
  {
   "cell_type": "markdown",
   "metadata": {},
   "source": [
    "#### PROJECT OBJECTIVE AND SCOPE"
   ]
  },
  {
   "cell_type": "markdown",
   "metadata": {},
   "source": [
    "This project aims at analysing the concepts of Spliting the data into Train and Test. This is very important concept since it is fundametal especially when analysing overfittng and underfitting data related issues. I also explain how to go about randomizing the data and/or controlling the process in a such as way when the data is split we can have the randomized data remain consistent everytime we re-run the cells. "
   ]
  },
  {
   "cell_type": "markdown",
   "metadata": {},
   "source": [
    "### TRAIN & TEST SPLIT"
   ]
  },
  {
   "cell_type": "markdown",
   "metadata": {},
   "source": [
    "#### Import relevant libraries"
   ]
  },
  {
   "cell_type": "code",
   "execution_count": 52,
   "metadata": {},
   "outputs": [],
   "source": [
    "import numpy as np\n",
    "from sklearn.model_selection import train_test_split"
   ]
  },
  {
   "cell_type": "markdown",
   "metadata": {},
   "source": [
    "##### Let's create and generate data use for Split"
   ]
  },
  {
   "cell_type": "code",
   "execution_count": 53,
   "metadata": {},
   "outputs": [
    {
     "data": {
      "text/plain": [
       "array([  1,   2,   3,   4,   5,   6,   7,   8,   9,  10,  11,  12,  13,\n",
       "        14,  15,  16,  17,  18,  19,  20,  21,  22,  23,  24,  25,  26,\n",
       "        27,  28,  29,  30,  31,  32,  33,  34,  35,  36,  37,  38,  39,\n",
       "        40,  41,  42,  43,  44,  45,  46,  47,  48,  49,  50,  51,  52,\n",
       "        53,  54,  55,  56,  57,  58,  59,  60,  61,  62,  63,  64,  65,\n",
       "        66,  67,  68,  69,  70,  71,  72,  73,  74,  75,  76,  77,  78,\n",
       "        79,  80,  81,  82,  83,  84,  85,  86,  87,  88,  89,  90,  91,\n",
       "        92,  93,  94,  95,  96,  97,  98,  99, 100])"
      ]
     },
     "execution_count": 53,
     "metadata": {},
     "output_type": "execute_result"
    }
   ],
   "source": [
    "a= np.arange(1,101)\n",
    "a"
   ]
  },
  {
   "cell_type": "code",
   "execution_count": 54,
   "metadata": {},
   "outputs": [
    {
     "data": {
      "text/plain": [
       "array([501, 502, 503, 504, 505, 506, 507, 508, 509, 510, 511, 512, 513,\n",
       "       514, 515, 516, 517, 518, 519, 520, 521, 522, 523, 524, 525, 526,\n",
       "       527, 528, 529, 530, 531, 532, 533, 534, 535, 536, 537, 538, 539,\n",
       "       540, 541, 542, 543, 544, 545, 546, 547, 548, 549, 550, 551, 552,\n",
       "       553, 554, 555, 556, 557, 558, 559, 560, 561, 562, 563, 564, 565,\n",
       "       566, 567, 568, 569, 570, 571, 572, 573, 574, 575, 576, 577, 578,\n",
       "       579, 580, 581, 582, 583, 584, 585, 586, 587, 588, 589, 590, 591,\n",
       "       592, 593, 594, 595, 596, 597, 598, 599, 600])"
      ]
     },
     "execution_count": 54,
     "metadata": {},
     "output_type": "execute_result"
    }
   ],
   "source": [
    "b=np.arange(501,601)\n",
    "b"
   ]
  },
  {
   "cell_type": "markdown",
   "metadata": {},
   "source": [
    "#### USE TRAIN TEST SPLIT TO SPLIT THE DATA"
   ]
  },
  {
   "cell_type": "code",
   "execution_count": 55,
   "metadata": {},
   "outputs": [
    {
     "data": {
      "text/plain": [
       "[array([33,  2, 51, 43, 92, 86,  9, 45, 37, 39, 12, 66,  1, 32, 68,  6, 87,\n",
       "        98, 25, 60, 73,  3, 55, 10, 59, 65, 47, 53, 30, 22, 54, 28, 76, 83,\n",
       "        17, 75, 67, 41, 34, 61, 21, 48, 70, 26, 46, 27,  5, 95, 82, 50, 84,\n",
       "        88, 85, 78, 52, 64, 96, 80, 49, 57, 99, 72, 93, 56, 91,  7, 19, 11,\n",
       "        69, 29, 90, 35, 42, 14, 20]),\n",
       " array([ 79,  94,  15,  24,  23,   4,  13, 100,  62,  89,  71,   8,  63,\n",
       "         40,  44,  31,  38,  74,  58,  81,  77,  36,  16,  18,  97])]"
      ]
     },
     "execution_count": 55,
     "metadata": {},
     "output_type": "execute_result"
    }
   ],
   "source": [
    "train_test_split(a)"
   ]
  },
  {
   "cell_type": "markdown",
   "metadata": {},
   "source": [
    "#### Results:\n",
    "\n",
    "The first array is always considered the \"Training Array\" while the second is the \"Testing Array\""
   ]
  },
  {
   "cell_type": "markdown",
   "metadata": {},
   "source": [
    "###### EXPLORING THE RESULTS"
   ]
  },
  {
   "cell_type": "code",
   "execution_count": 56,
   "metadata": {},
   "outputs": [],
   "source": [
    "a_train, a_test =train_test_split(a)"
   ]
  },
  {
   "cell_type": "code",
   "execution_count": 57,
   "metadata": {},
   "outputs": [
    {
     "data": {
      "text/plain": [
       "((75,), (25,))"
      ]
     },
     "execution_count": 57,
     "metadata": {},
     "output_type": "execute_result"
    }
   ],
   "source": [
    "a_train.shape, a_test.shape"
   ]
  },
  {
   "cell_type": "markdown",
   "metadata": {},
   "source": [
    "#### Result\n",
    "\n",
    "a_train has a lenght of 75 while a_test has a lenght of 25. "
   ]
  },
  {
   "cell_type": "code",
   "execution_count": 58,
   "metadata": {},
   "outputs": [
    {
     "data": {
      "text/plain": [
       "array([28, 74, 57, 32,  5, 89, 25, 90, 60, 92, 30, 61, 77, 78, 18, 71, 46,\n",
       "       70, 93, 21,  2, 15, 86, 75, 84, 17, 14,  4, 62, 65,  7, 81, 24, 80,\n",
       "       16, 20, 42, 79, 11, 35, 47, 88, 73, 67, 72, 34, 27, 40,  1, 52, 66,\n",
       "       76, 49, 26, 82, 54,  8, 98, 33, 85, 39, 44, 41, 64, 63, 68, 19, 13,\n",
       "       31, 48, 94, 22,  3, 83, 55])"
      ]
     },
     "execution_count": 58,
     "metadata": {},
     "output_type": "execute_result"
    }
   ],
   "source": [
    "a_train"
   ]
  },
  {
   "cell_type": "code",
   "execution_count": 59,
   "metadata": {},
   "outputs": [
    {
     "data": {
      "text/plain": [
       "array([ 59,  50,  37,  96,  56,  69,  12,  10,  97,  29,   6,  95,  58,\n",
       "        53,  38,  43,  51,  45,  23,  36,  99,  91,  87,   9, 100])"
      ]
     },
     "execution_count": 59,
     "metadata": {},
     "output_type": "execute_result"
    }
   ],
   "source": [
    "a_test"
   ]
  },
  {
   "cell_type": "markdown",
   "metadata": {},
   "source": [
    "#### Results \n",
    "There are two important observations here: First, the default split is 75 and 25. Second, both arrays are randomized in a non-sequential order. Third, 75, 25 is not the ideal split for the work since there is larger amount of the data being dedicated to testing. We can imporve the split by adding the testsize of 80 to 20. "
   ]
  },
  {
   "cell_type": "markdown",
   "metadata": {},
   "source": [
    "#### CHANGING THE TESTSIZE OF THE SPLIT"
   ]
  },
  {
   "cell_type": "code",
   "execution_count": 60,
   "metadata": {},
   "outputs": [],
   "source": [
    "a_train, a_test =train_test_split(a,test_size=0.2)\n",
    "# since the shiffle is set to True by default, we can always control it using the shuffle=False in the code as well, as needed.\n",
    "# in this case it would be a_train, a_test =train_test_split(a,test_size=0.2, shuffle =False)\n",
    "# since each time we re-run the sells the numbers get randomized, we can also control it to how many times the shuffled numbers remain the same.\n",
    "# in this case we can add the random_state in the code like (a_train, a_test =train_test_split(a,test_size=0.2, random_state=42)\n"
   ]
  },
  {
   "cell_type": "markdown",
   "metadata": {},
   "source": [
    "#### EXPLORING THE RESULTS"
   ]
  },
  {
   "cell_type": "code",
   "execution_count": 61,
   "metadata": {},
   "outputs": [
    {
     "data": {
      "text/plain": [
       "((80,), (20,))"
      ]
     },
     "execution_count": 61,
     "metadata": {},
     "output_type": "execute_result"
    }
   ],
   "source": [
    "a_train.shape, a_test.shape"
   ]
  },
  {
   "cell_type": "markdown",
   "metadata": {},
   "source": [
    "### Results\n",
    "a_train has a lenght of 80 while a_test the lenght of 20."
   ]
  },
  {
   "cell_type": "code",
   "execution_count": 62,
   "metadata": {},
   "outputs": [
    {
     "data": {
      "text/plain": [
       "array([100,  65,  68,  72,   3,  87,  94,  81,  25,  60,  92,  27,  74,\n",
       "        13,  57,   8,  20,  42,  73,  79,  26,  71,  80,  76,  77,  62,\n",
       "        85,  51,   6,  63,  54,  96,  49,   2,  89,  43,  95,  91,  37,\n",
       "        61,  86,  48,  31,   1,  99,  82,  90,  75,  56,  36,  67,  16,\n",
       "        88,  21,   7,  35,  18,  38,  23,  30,  44,   9,  53,  58,  50,\n",
       "        19,  24,  12,   5,  93,  39,  59,  98,  29,  14,  83,  52,  40,\n",
       "        41,  64])"
      ]
     },
     "execution_count": 62,
     "metadata": {},
     "output_type": "execute_result"
    }
   ],
   "source": [
    "a_train"
   ]
  },
  {
   "cell_type": "code",
   "execution_count": 63,
   "metadata": {},
   "outputs": [
    {
     "data": {
      "text/plain": [
       "array([11, 10, 17, 70, 45, 55, 78, 32, 28, 47, 66, 97, 46, 33, 15, 34, 84,\n",
       "       22, 69,  4])"
      ]
     },
     "execution_count": 63,
     "metadata": {},
     "output_type": "execute_result"
    }
   ],
   "source": [
    "a_test"
   ]
  },
  {
   "cell_type": "markdown",
   "metadata": {},
   "source": [
    "##### SPLIT MORE THAN ONE ARRAYS AT THE SAME TIME. "
   ]
  },
  {
   "cell_type": "code",
   "execution_count": 64,
   "metadata": {},
   "outputs": [],
   "source": [
    "a_train, a_test, b_train, b_test =train_test_split(a, b, test_size=0.2)"
   ]
  },
  {
   "cell_type": "code",
   "execution_count": 65,
   "metadata": {},
   "outputs": [
    {
     "data": {
      "text/plain": [
       "((80,), (20,))"
      ]
     },
     "execution_count": 65,
     "metadata": {},
     "output_type": "execute_result"
    }
   ],
   "source": [
    "a_train.shape, a_test.shape"
   ]
  },
  {
   "cell_type": "code",
   "execution_count": 66,
   "metadata": {},
   "outputs": [
    {
     "data": {
      "text/plain": [
       "array([  8,  89,  56,  49,  72,  87,  68,   3,  60,  42,  30,  34,  82,\n",
       "        10,   1,  12,  71,  48,  31,  77,  57,  53,  91,  33,  47,  22,\n",
       "        85,  32,  88,  40,  79,  38,  67,   9,  75,  23,  93,  94,  73,\n",
       "        29,  98,   2,   7,  90, 100,  54,  46,  64,  24,  76,  55,   6,\n",
       "        52,  18,  74,  21,  16,  39,   4,  66,  96,  81,  25,  36,  27,\n",
       "         5,  28,  51,  15,  20,  41,  50,  95,  78,  11,  62,  99,  58,\n",
       "        65,  45])"
      ]
     },
     "execution_count": 66,
     "metadata": {},
     "output_type": "execute_result"
    }
   ],
   "source": [
    "a_train"
   ]
  },
  {
   "cell_type": "code",
   "execution_count": 67,
   "metadata": {},
   "outputs": [
    {
     "data": {
      "text/plain": [
       "array([61, 80, 84, 44, 59, 70, 97, 86, 92, 43, 35, 37, 26, 14, 69, 17, 19,\n",
       "       83, 63, 13])"
      ]
     },
     "execution_count": 67,
     "metadata": {},
     "output_type": "execute_result"
    }
   ],
   "source": [
    "a_test"
   ]
  },
  {
   "cell_type": "code",
   "execution_count": 68,
   "metadata": {},
   "outputs": [
    {
     "data": {
      "text/plain": [
       "((80,), (20,))"
      ]
     },
     "execution_count": 68,
     "metadata": {},
     "output_type": "execute_result"
    }
   ],
   "source": [
    "b_train.shape, b_test.shape"
   ]
  },
  {
   "cell_type": "code",
   "execution_count": 69,
   "metadata": {},
   "outputs": [
    {
     "data": {
      "text/plain": [
       "array([508, 589, 556, 549, 572, 587, 568, 503, 560, 542, 530, 534, 582,\n",
       "       510, 501, 512, 571, 548, 531, 577, 557, 553, 591, 533, 547, 522,\n",
       "       585, 532, 588, 540, 579, 538, 567, 509, 575, 523, 593, 594, 573,\n",
       "       529, 598, 502, 507, 590, 600, 554, 546, 564, 524, 576, 555, 506,\n",
       "       552, 518, 574, 521, 516, 539, 504, 566, 596, 581, 525, 536, 527,\n",
       "       505, 528, 551, 515, 520, 541, 550, 595, 578, 511, 562, 599, 558,\n",
       "       565, 545])"
      ]
     },
     "execution_count": 69,
     "metadata": {},
     "output_type": "execute_result"
    }
   ],
   "source": [
    "b_train"
   ]
  },
  {
   "cell_type": "code",
   "execution_count": 70,
   "metadata": {},
   "outputs": [
    {
     "data": {
      "text/plain": [
       "array([561, 580, 584, 544, 559, 570, 597, 586, 592, 543, 535, 537, 526,\n",
       "       514, 569, 517, 519, 583, 563, 513])"
      ]
     },
     "execution_count": 70,
     "metadata": {},
     "output_type": "execute_result"
    }
   ],
   "source": [
    "b_test"
   ]
  },
  {
   "cell_type": "markdown",
   "metadata": {},
   "source": [
    "Thank you\n",
    "\n",
    "### Bernardo Vimpi\n",
    "\n",
    "April 2020"
   ]
  },
  {
   "cell_type": "code",
   "execution_count": null,
   "metadata": {},
   "outputs": [],
   "source": []
  }
 ],
 "metadata": {
  "kernelspec": {
   "display_name": "Python 3",
   "language": "python",
   "name": "python3"
  },
  "language_info": {
   "codemirror_mode": {
    "name": "ipython",
    "version": 3
   },
   "file_extension": ".py",
   "mimetype": "text/x-python",
   "name": "python",
   "nbconvert_exporter": "python",
   "pygments_lexer": "ipython3",
   "version": "3.7.6"
  }
 },
 "nbformat": 4,
 "nbformat_minor": 4
}
