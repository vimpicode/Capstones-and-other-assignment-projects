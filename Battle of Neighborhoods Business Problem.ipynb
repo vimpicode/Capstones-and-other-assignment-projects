{
 "cells": [
  {
   "cell_type": "markdown",
   "metadata": {
    "collapsed": true
   },
   "source": [
    "### Capstone Project - The Battle of Neighborhoods (Week 1)"
   ]
  },
  {
   "cell_type": "markdown",
   "metadata": {},
   "source": [
    "#### Section Requirements and guidelines\n",
    "\n",
    "Clearly define a problem or an idea of your choice, where you would need to leverage the Foursquare location data to solve or execute. Remember that data science problems always target an audience and are meant to help a group of stakeholders solve a problem, so make sure that you explicitly describe your audience and why they would care about your problem.\n",
    "\n",
    "This submission will eventually become your Introduction/Business Problem section in your final report. So I recommend that you push the report (having your Introduction/Business Problem section only for now) to your Github repository and submit a link to it."
   ]
  },
  {
   "cell_type": "markdown",
   "metadata": {},
   "source": [
    "### INTRODUCTION"
   ]
  },
  {
   "cell_type": "markdown",
   "metadata": {},
   "source": [
    "This project aims at conducting a study, using data, to evaluate the right neighborhood to open a new business. Selecting the correct neighborhood to open a new business is not an easy task. Several factors need to be taken into consideration including, but not limited to location and population density.  In this capstone project I analyze and compare data between two major cities, New York City (USA) and Toronto (Canada). To make the final decision as to which of the cities is best fitted for a business to open a new site, requires an in-depth and throughout evaluation of data in order to arrive to the desired conclusion. Thus, I use data science methodology and tools to properly analyze this issue. To do so, I have structured this project in the following sections:\n",
    "#### 1.\tBusiness Problem\n",
    "#### 2.\tData Source and Description\n",
    "#### 3.\tMethodology and tools\n",
    "#### 4.\tPresentation of Final Results\n",
    "#### 5.\tDiscussion of Final Results \n",
    "#### 6.\tConclusion\n"
   ]
  },
  {
   "cell_type": "markdown",
   "metadata": {},
   "source": [
    "### BUSINESS PROBLEM"
   ]
  },
  {
   "cell_type": "markdown",
   "metadata": {},
   "source": [
    "##### BUSINESS PROBLEM\n",
    "In this section I present the main business problem which is the core of this project. STYLE Pro is a cloth retail business that was founded in 2000 in the city of Chicago, USA. Over the past 20 years the company has grown in both revenue and customer acquisition due to its unique products that are tailored to working professionals. Due to its exponential growth and increased revenue, new ventures for the company have attracted more investors over the past 5 years. As such, the company sees the impending need to expand its business in a metropolitan area which has the potential to continuous business growth hence, high Return on Investment (ROI). The leadership of the company has two major cities in consideration: New York City and Toronto. However, the business executives must decide which of these cities is best to open a new branch for STYLE Pro. There are two different audiences for this project: Specific and General.\n"
   ]
  },
  {
   "cell_type": "markdown",
   "metadata": {},
   "source": [
    "##### AUDIENCE "
   ]
  },
  {
   "cell_type": "markdown",
   "metadata": {},
   "source": [
    "#####  A.\tThe Specific Audience: \n",
    "\n",
    "The specific audience for this project are the executives, employees, current stakeholders and investors for STYLE Pro. They are the primary reason for the desired decision to open a new branch location. The executives and investors of STYLE Pro need to be fully informed of the ways in which I arrived to the conclusions in this project and based on that conclusion they need to make a decision on the feasibility of opening a new branch based on which of the two cities offers the best business potential, growth and return on investment for STYLE Pro. \n",
    "\n",
    "\n",
    "##### B.\tGeneral Audience: \n",
    "\n",
    "The general audiences of this project are future investors. In order to attract potential investors, STYLE Pro needs to have a clear vision of the company growth, revenues and profit. One of the best approaches to invite new investors in near future is to present the current findings for this project to investors and explain the extent to which expanding the business to either New York City or Toronto will accelerate the company’s expansion and growth in customer acquisition, retention and increase profits and revenue, which ultimately will translate into return on investment for stakeholders in the short and long run. \n"
   ]
  },
  {
   "cell_type": "code",
   "execution_count": null,
   "metadata": {},
   "outputs": [],
   "source": []
  }
 ],
 "metadata": {
  "kernelspec": {
   "display_name": "Python 3.6",
   "language": "python",
   "name": "python3"
  },
  "language_info": {
   "codemirror_mode": {
    "name": "ipython",
    "version": 3
   },
   "file_extension": ".py",
   "mimetype": "text/x-python",
   "name": "python",
   "nbconvert_exporter": "python",
   "pygments_lexer": "ipython3",
   "version": "3.6.9"
  }
 },
 "nbformat": 4,
 "nbformat_minor": 1
}
